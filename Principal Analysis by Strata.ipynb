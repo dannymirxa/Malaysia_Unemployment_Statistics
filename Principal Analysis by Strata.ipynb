{
 "cells": [
  {
   "cell_type": "code",
   "execution_count": 1,
   "id": "75fc84c8-a54a-47c4-99f9-62cd868c39cf",
   "metadata": {},
   "outputs": [],
   "source": [
    "import pandas as pd\n",
    "import matplotlib.pyplot as plt\n",
    "import functools\n",
    "import numpy as np"
   ]
  },
  {
   "cell_type": "code",
   "execution_count": 2,
   "id": "1da89aea-ceec-4048-9f7c-fc374d020ae3",
   "metadata": {},
   "outputs": [],
   "source": [
    "directory_strata = 'D:/Data Science Projects/Malaysia Statistics/03.Principal statistics of labour force by strata.xlsx'"
   ]
  },
  {
   "cell_type": "code",
   "execution_count": 3,
   "id": "bca7c5b8-932c-48c2-b581-bd765a33277a",
   "metadata": {},
   "outputs": [],
   "source": [
    "df_malaysia_u = pd.read_excel(directory_strata, sheet_name = 0)\n",
    "df_malaysia_r = pd.read_excel(directory_strata, sheet_name = 1)\n",
    "df_johor_u = pd.read_excel(directory_strata, sheet_name = 2)\n",
    "df_johor_r = pd.read_excel(directory_strata, sheet_name = 3)\n",
    "df_kedah_u = pd.read_excel(directory_strata, sheet_name = 4)\n",
    "df_kedah_r = pd.read_excel(directory_strata, sheet_name = 5)\n",
    "df_kelantan_u = pd.read_excel(directory_strata, sheet_name = 6)\n",
    "df_kelantan_r = pd.read_excel(directory_strata, sheet_name = 7)\n",
    "df_melaka_u = pd.read_excel(directory_strata, sheet_name = 8)\n",
    "df_melaka_r = pd.read_excel(directory_strata, sheet_name = 9)\n",
    "df_nsembilan_u = pd.read_excel(directory_strata, sheet_name = 10)\n",
    "df_nsembilan_r = pd.read_excel(directory_strata, sheet_name = 11)\n",
    "df_pahang_u = pd.read_excel(directory_strata, sheet_name = 12)\n",
    "df_pahang_r = pd.read_excel(directory_strata, sheet_name = 13)\n",
    "df_ppinang_u = pd.read_excel(directory_strata, sheet_name = 14)\n",
    "df_ppinang_r = pd.read_excel(directory_strata, sheet_name = 15)\n",
    "df_perak_u = pd.read_excel(directory_strata, sheet_name = 16)\n",
    "df_perak_r = pd.read_excel(directory_strata, sheet_name = 17)\n",
    "df_perlis_u = pd.read_excel(directory_strata, sheet_name = 18)\n",
    "df_perlis_r = pd.read_excel(directory_strata, sheet_name = 19)\n",
    "df_selangor_u = pd.read_excel(directory_strata, sheet_name = 20)\n",
    "df_selangor_r = pd.read_excel(directory_strata, sheet_name = 21)\n",
    "df_terangganu_u = pd.read_excel(directory_strata, sheet_name = 22)\n",
    "df_terangganu_r = pd.read_excel(directory_strata, sheet_name = 23)\n",
    "df_sabah_u = pd.read_excel(directory_strata, sheet_name = 24)\n",
    "df_sabah_r = pd.read_excel(directory_strata, sheet_name = 25)\n",
    "df_sarawak_u = pd.read_excel(directory_strata, sheet_name = 26)\n",
    "df_sarawak_r = pd.read_excel(directory_strata, sheet_name = 27)\n",
    "df_kl_u = pd.read_excel(directory_strata, sheet_name = 28)\n",
    "df_labuan_u = pd.read_excel(directory_strata, sheet_name = 29)\n",
    "df_labuan_r = pd.read_excel(directory_strata, sheet_name = 30)\n",
    "df_putrajaya_u = pd.read_excel(directory_strata, sheet_name = 31)"
   ]
  },
  {
   "cell_type": "code",
   "execution_count": 4,
   "id": "9053310f-7d65-48cd-bfaa-d05cea4c020f",
   "metadata": {},
   "outputs": [
    {
     "data": {
      "text/plain": [
       "(0      65.1\n",
       " 1      73.4\n",
       " 2     102.1\n",
       " 3     116.3\n",
       " 4     161.0\n",
       " 5     162.0\n",
       " 6     154.3\n",
       " 7     125.1\n",
       " 8      99.7\n",
       " 9     130.8\n",
       " 10    159.9\n",
       " 11    123.0\n",
       " 12    103.7\n",
       " 13     99.1\n",
       " 14    151.3\n",
       " 15    170.1\n",
       " 16    146.8\n",
       " 17    205.3\n",
       " 18    215.9\n",
       " 19    231.9\n",
       " 20    224.7\n",
       " 21    235.8\n",
       " 22    230.1\n",
       " 23    228.4\n",
       " 24    237.0\n",
       " 25    278.7\n",
       " 26    273.1\n",
       " 27    252.9\n",
       " 28    270.8\n",
       " 29    306.5\n",
       " 30    301.8\n",
       " 31    342.2\n",
       " 32    393.2\n",
       " 33    402.4\n",
       " 34    397.6\n",
       " 35    407.9\n",
       " 36    572.5\n",
       " Name: Unemployed, dtype: float64,\n",
       " 0     117.400\n",
       " 1     141.500\n",
       " 2     193.800\n",
       " 3     220.400\n",
       " 4     300.900\n",
       " 5     310.900\n",
       " 6     325.600\n",
       " 7     263.400\n",
       " 8     215.500\n",
       " 9     140.400\n",
       " 10    156.900\n",
       " 11    125.100\n",
       " 12    113.100\n",
       " 13    115.700\n",
       " 14    132.700\n",
       " 15    143.600\n",
       " 16    140.100\n",
       " 17    137.000\n",
       " 18    127.600\n",
       " 19    137.900\n",
       " 20    142.000\n",
       " 21    132.300\n",
       " 22    123.400\n",
       " 23    123.000\n",
       " 24    131.500\n",
       " 25    139.200\n",
       " 26    131.300\n",
       " 27    136.300\n",
       " 28    130.400\n",
       " 29    128.600\n",
       " 30    109.200\n",
       " 31    108.100\n",
       " 32    110.900\n",
       " 33    100.900\n",
       " 34    106.691\n",
       " 35    100.200\n",
       " 36    138.500\n",
       " Name: Unemployed, dtype: float64)"
      ]
     },
     "execution_count": 4,
     "metadata": {},
     "output_type": "execute_result"
    }
   ],
   "source": [
    "df_malaysia_u['Unemployed'],df_malaysia_r['Unemployed']"
   ]
  },
  {
   "cell_type": "code",
   "execution_count": 5,
   "id": "0a25ebe3-9a8b-4816-8c0e-58e0e3e6fabb",
   "metadata": {},
   "outputs": [],
   "source": [
    "df_malaysia_unemployed = pd.merge(df_malaysia_u[['Year','Unemployed']], df_malaysia_r[['Year','Unemployed']], how=\"outer\", on='Year')\n",
    "df_malaysia_unemployed.columns = ['Year','Urban','Rural']\n",
    "\n",
    "df_johor_unemployed = pd.merge(df_johor_u[['Year','Unemployed']], df_johor_r[['Year','Unemployed']], how=\"outer\", on='Year')\n",
    "df_johor_unemployed.columns = ['Year','Urban','Rural']\n",
    "\n",
    "df_kedah_unemployed = pd.merge(df_kedah_u[['Year','Unemployed']], df_kedah_r[['Year','Unemployed']], how=\"outer\", on='Year')\n",
    "df_kedah_unemployed.columns = ['Year','Urban','Rural']\n",
    "\n",
    "df_kelantan_unemployed = pd.merge(df_kelantan_u[['Year','Unemployed']], df_kelantan_r[['Year','Unemployed']], how=\"outer\", on='Year')\n",
    "df_kelantan_unemployed.columns = ['Year','Urban','Rural']\n",
    "\n",
    "df_melaka_unemployed = pd.merge(df_melaka_u[['Year','Unemployed']], df_melaka_r[['Year','Unemployed']], how=\"outer\", on='Year')\n",
    "df_melaka_unemployed.columns = ['Year','Urban','Rural']\n",
    "\n",
    "df_nsembilan_unemployed = pd.merge(df_nsembilan_u[['Year','Unemployed']], df_nsembilan_r[['Year','Unemployed']], how=\"outer\", on='Year')\n",
    "df_nsembilan_unemployed.columns = ['Year','Urban','Rural']\n",
    "\n",
    "df_pahang_unemployed = pd.merge(df_pahang_u[['Year','Unemployed']], df_pahang_r[['Year','Unemployed']], how=\"outer\", on='Year')\n",
    "df_pahang_unemployed.columns = ['Year','Urban','Rural']\n",
    "\n",
    "df_ppinang_unemployed = pd.merge(df_ppinang_u[['Year','Unemployed']], df_ppinang_r[['Year','Unemployed']], how=\"outer\", on='Year')\n",
    "df_ppinang_unemployed.columns = ['Year','Urban','Rural']\n",
    "\n",
    "df_perak_unemployed = pd.merge(df_perak_u[['Year','Unemployed']], df_perak_r[['Year','Unemployed']], how=\"outer\", on='Year')\n",
    "df_perak_unemployed.columns = ['Year','Urban','Rural']\n",
    "\n",
    "df_perlis_unemployed = pd.merge(df_perlis_u[['Year','Unemployed']], df_perlis_r[['Year','Unemployed']], how=\"outer\", on='Year')\n",
    "df_perlis_unemployed.columns = ['Year','Urban','Rural']\n",
    "\n",
    "df_selangor_unemployed = pd.merge(df_selangor_u[['Year','Unemployed']], df_selangor_r[['Year','Unemployed']], how=\"outer\", on='Year')\n",
    "df_selangor_unemployed.columns = ['Year','Urban','Rural']\n",
    "\n",
    "df_terangganu_unemployed = pd.merge(df_terangganu_u[['Year','Unemployed']], df_terangganu_r[['Year','Unemployed']], how=\"outer\", on='Year')\n",
    "df_terangganu_unemployed.columns = ['Year','Urban','Rural']\n",
    "\n",
    "df_sabah_unemployed = pd.merge(df_sabah_u[['Year','Unemployed']], df_sabah_r[['Year','Unemployed']], how=\"outer\", on='Year')\n",
    "df_sabah_unemployed.columns = ['Year','Urban','Rural']\n",
    "\n",
    "df_sarawak_unemployed = pd.merge(df_sarawak_u[['Year','Unemployed']], df_sarawak_r[['Year','Unemployed']], how=\"outer\", on='Year')\n",
    "df_sarawak_unemployed.columns = ['Year','Urban','Rural']\n",
    "\n",
    "df_perlis_unemployed = pd.merge(df_perlis_u[['Year','Unemployed']], df_perlis_r[['Year','Unemployed']], how=\"outer\", on='Year')\n",
    "df_perlis_unemployed.columns = ['Year','Urban','Rural']\n",
    "\n",
    "df_kl_unemployed = df_kl_u[['Year','Unemployed']]\n",
    "df_kl_unemployed.columns = ['Year','Urban']\n",
    "\n",
    "df_labuan_unemployed = pd.merge(df_labuan_u[['Year','Unemployed']], df_labuan_r[['Year','Unemployed']], how=\"outer\", on='Year')\n",
    "df_labuan_unemployed.columns = ['Year','Urban','Rural']\n",
    "\n",
    "df_putrajaya_unemployed = df_putrajaya_u[['Year','Unemployed']]\n",
    "df_putrajaya_unemployed.columns = ['Year','Urban']"
   ]
  },
  {
   "cell_type": "code",
   "execution_count": 6,
   "id": "68464e2b-8af3-422e-806a-482dc901d175",
   "metadata": {},
   "outputs": [],
   "source": [
    "df_malaysia_unemployed_2020 = df_malaysia_unemployed[['Year','Urban','Rural']][df_malaysia_unemployed['Year']==2020]"
   ]
  },
  {
   "cell_type": "code",
   "execution_count": 7,
   "id": "73610982-a1fa-40d1-97bc-9a558fa3c1b5",
   "metadata": {},
   "outputs": [
    {
     "data": {
      "image/png": "[encoded data removed]",
      "text/plain": [
       "<Figure size 432x288 with 1 Axes>"
      ]
     },
     "metadata": {},
     "output_type": "display_data"
    }
   ],
   "source": [
    "plt.pie(df_malaysia_unemployed_2020.iloc[:,1:3].sum(), labels = df_malaysia_unemployed_2020.columns[1:3], autopct= '%1.1f%%', radius = 3, textprops={'fontsize': 14})\n",
    "plt.title('Total Unemployment Breakdown (%) by Strata 2020',y=1.9, fontsize=18)\n",
    "plt.show()"
   ]
  },
  {
   "cell_type": "code",
   "execution_count": 8,
   "id": "9bbf53ed-2261-452e-ab8a-57bb25481ca8",
   "metadata": {},
   "outputs": [],
   "source": [
    "df_unemployed_2020 = pd.concat([df_johor_unemployed[df_johor_unemployed['Year']==2020], \n",
    "                             df_kedah_unemployed[df_kedah_unemployed['Year']==2020],\n",
    "                             df_kelantan_unemployed[df_kelantan_unemployed['Year']==2020],\n",
    "                             df_melaka_unemployed[df_melaka_unemployed['Year']==2020], \n",
    "                             df_nsembilan_unemployed[df_nsembilan_unemployed['Year']==2020], \n",
    "                             df_pahang_unemployed[df_pahang_unemployed['Year']==2020],\n",
    "                             df_ppinang_unemployed[df_ppinang_unemployed['Year']==2020],\n",
    "                             df_perak_unemployed[df_perlis_unemployed['Year']==2020], \n",
    "                             df_selangor_unemployed[df_selangor_unemployed['Year']==2020],\n",
    "                             df_terangganu_unemployed[df_terangganu_unemployed['Year']==2020],\n",
    "                             df_sabah_unemployed[df_sabah_unemployed['Year']==2020], \n",
    "                             df_sarawak_unemployed[df_sarawak_unemployed['Year']==2020],\n",
    "                             df_kelantan_unemployed[df_kelantan_unemployed['Year']==2020],\n",
    "                             df_kl_unemployed[df_kl_unemployed['Year']==2020], \n",
    "                             df_labuan_unemployed[df_labuan_unemployed['Year']==2020],\n",
    "                             df_putrajaya_unemployed[df_putrajaya_unemployed['Year']==2020],\n",
    "                            ], axis=0)"
   ]
  },
  {
   "cell_type": "code",
   "execution_count": 9,
   "id": "8c54c700-d021-47c3-91d1-3e6e5adb7a76",
   "metadata": {},
   "outputs": [],
   "source": [
    "labels = ['Johor',\n",
    "            'Kedah',\n",
    "            'Kelantan',\n",
    "            'Melaka',\n",
    "            'NSembilan',\n",
    "            'Pahang',\n",
    "            'PPinang',\n",
    "            'Perak',\n",
    "            'Perlis',\n",
    "            'Selangor',\n",
    "            'Terangganu',\n",
    "            'Sabah',\n",
    "            'Sarawak',\n",
    "            'KL',\n",
    "            'Labuan',\n",
    "            'Putrajaya']\n",
    "urban = df_unemployed_2020['Urban']\n",
    "rural = df_unemployed_2020['Rural']"
   ]
  },
  {
   "cell_type": "markdown",
   "id": "b3a435ce-60cc-4c35-bb01-0398777e4852",
   "metadata": {},
   "source": [
    "df_unemployed_2020['Rural'] = df_unemployed_2020['Rural'].fillna(0)"
   ]
  },
  {
   "cell_type": "code",
   "execution_count": 10,
   "id": "c086212f-b49c-4f8e-8f71-e7b7a9e1f72d",
   "metadata": {},
   "outputs": [
    {
     "data": {
      "image/png": "[encoded data removed]",
      "text/plain": [
       "<Figure size 1152x576 with 1 Axes>"
      ]
     },
     "metadata": {
      "needs_background": "light"
     },
     "output_type": "display_data"
    }
   ],
   "source": [
    "fig, ax = plt.subplots(figsize=(16,8))\n",
    "x = np.arange(len(labels))\n",
    "width = 0.35 \n",
    "\n",
    "rects1 = ax.bar(x - width/2, np.array(urban), width, label='Urban')\n",
    "rects2 = ax.bar(x + width/2, np.array(rural), width, label='Rural')\n",
    "\n",
    "\n",
    "# Add some text for labels, title and custom x-axis tick labels, etc.\n",
    "ax.set_ylabel('Total of Unemployment (thousands)')\n",
    "ax.set_title('Total of Unemployment by Stratas and States in 2020')\n",
    "ax.set_xticks(x, labels)\n",
    "ax.legend()\n",
    "\n",
    "ax.bar_label(rects1, padding=3)\n",
    "ax.bar_label(rects2, padding=3)\n",
    "\n",
    "fig.tight_layout()\n",
    "\n",
    "plt.show()"
   ]
  },
  {
   "cell_type": "code",
   "execution_count": null,
   "id": "19966061-ef8c-4e57-af7f-5e1d689805a4",
   "metadata": {},
   "outputs": [],
   "source": []
  }
 ],
 "metadata": {
  "kernelspec": {
   "display_name": "Python 3 (ipykernel)",
   "language": "python",
   "name": "python3"
  },
  "language_info": {
   "codemirror_mode": {
    "name": "ipython",
    "version": 3
   },
   "file_extension": ".py",
   "mimetype": "text/x-python",
   "name": "python",
   "nbconvert_exporter": "python",
   "pygments_lexer": "ipython3",
   "version": "3.9.7"
  }
 },
 "nbformat": 4,
 "nbformat_minor": 5
}
