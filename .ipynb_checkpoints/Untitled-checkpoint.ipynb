{
 "cells": [
  {
   "cell_type": "code",
   "execution_count": 1,
   "id": "fe546091-dad1-4ac3-a437-aa1ebc1c8424",
   "metadata": {},
   "outputs": [],
   "source": [
    "import pandas as pd\n",
    "import matplotlib.pyplot as plt\n",
    "import functools\n",
    "import numpy as np\n",
    "import glob"
   ]
  },
  {
   "cell_type": "code",
   "execution_count": 2,
   "id": "968ae807-b07c-4866-83f3-bf0c68083d49",
   "metadata": {},
   "outputs": [
    {
     "name": "stdout",
     "output_type": "stream",
     "text": [
      "['D:/Data Science Projects/Malaysia Statistics\\\\01.Principal_Statistics.xlsx', 'D:/Data Science Projects/Malaysia Statistics\\\\02.Principal statistics of labour force by sex.xlsx', 'D:/Data Science Projects/Malaysia Statistics\\\\03.Principal statistics of labour force by strata.xlsx', 'D:/Data Science Projects/Malaysia Statistics\\\\04.Labour force by age group.xlsx', 'D:/Data Science Projects/Malaysia Statistics\\\\05.Labour force by ethnic group.xlsx', 'D:/Data Science Projects/Malaysia Statistics\\\\06.Labour force by educational attainment.xlsx', 'D:/Data Science Projects/Malaysia Statistics\\\\07.Labour force by highest certificate obtained.xls', 'D:/Data Science Projects/Malaysia Statistics\\\\08.Labour force by marital status.xls', 'D:/Data Science Projects/Malaysia Statistics\\\\09.Employed persons by age group.xls', 'D:/Data Science Projects/Malaysia Statistics\\\\10.Employed persons by ethnic group.xls', 'D:/Data Science Projects/Malaysia Statistics\\\\14.Employed persons by educational attainment.xls', 'D:/Data Science Projects/Malaysia Statistics\\\\15.Employed persons by highest certificate obtained.xls', 'D:/Data Science Projects/Malaysia Statistics\\\\16.Employed persons by marital status.xls']\n"
     ]
    }
   ],
   "source": [
    "print(glob.glob(\"D:/Data Science Projects/Malaysia Statistics/*\"))"
   ]
  },
  {
   "cell_type": "code",
   "execution_count": 3,
   "id": "e7b170c7-80d7-463c-97e6-fa3086302ba4",
   "metadata": {},
   "outputs": [],
   "source": [
    "labour_force_age = 'D:/Data Science Projects/Malaysia Statistics/04.Labour force by age group.xlsx'\n",
    "labour_force_ethnic = 'D:/Data Science Projects/Malaysia Statistics/05.Labour force by ethnic group.xlsx'\n",
    "labour_force_edu = 'D:/Data Science Projects/Malaysia Statistics/06.Labour force by educational attainment.xlsx'\n",
    "labour_force_cert = 'D:/Data Science Projects/Malaysia Statistics/07.Labour force by highest certificate obtained.xls'\n",
    "labour_force_marital = 'D:/Data Science Projects/Malaysia Statistics/08.Labour force by marital status.xls'\n",
    "employed_age = 'D:/Data Science Projects/Malaysia Statistics/09.Employed persons by age group.xls'\n",
    "employed_ethnic = 'D:/Data Science Projects/Malaysia Statistics/10.Employed persons by ethnic group.xls'\n",
    "employed_edu = 'D:/Data Science Projects/Malaysia Statistics/14.Employed persons by educational attainment.xls'\n",
    "employed_cert = 'D:/Data Science Projects/Malaysia Statistics/15.Employed persons by highest certificate obtained.xls'\n",
    "employed_marital = 'D:/Data Science Projects/Malaysia Statistics/16.Employed persons by marital status.xls'"
   ]
  },
  {
   "cell_type": "code",
   "execution_count": 6,
   "id": "7204a581-8370-492b-bc2e-d96bbf95da48",
   "metadata": {},
   "outputs": [],
   "source": [
    "df_labour_force_age = pd.read_excel(labour_force_age, sheet_name = 0)\n",
    "df_labour_force_ethnic = pd.read_excel(labour_force_ethnic, sheet_name = 0)\n",
    "df_labour_force_edu = pd.read_excel(labour_force_edu, sheet_name = 0)\n",
    "df_labour_force_cert = pd.read_excel(labour_force_cert, sheet_name = 0)\n",
    "df_labour_force_marital = pd.read_excel(labour_force_marital, sheet_name = 0)\n",
    "df_employed_age = pd.read_excel(employed_age, sheet_name = 0)\n",
    "df_employed_ethnic = pd.read_excel(employed_ethnic, sheet_name = 0)\n",
    "df_employed_edu = pd.read_excel(employed_edu, sheet_name = 0)\n",
    "df_employed_cert = pd.read_excel(employed_cert, sheet_name = 0)\n",
    "df_employed_marital = pd.read_excel(employed_marital, sheet_name = 0)"
   ]
  },
  {
   "cell_type": "code",
   "execution_count": null,
   "id": "635b8cf7-7481-455b-a92e-8202f172605b",
   "metadata": {},
   "outputs": [],
   "source": []
  }
 ],
 "metadata": {
  "kernelspec": {
   "display_name": "Python 3 (ipykernel)",
   "language": "python",
   "name": "python3"
  },
  "language_info": {
   "codemirror_mode": {
    "name": "ipython",
    "version": 3
   },
   "file_extension": ".py",
   "mimetype": "text/x-python",
   "name": "python",
   "nbconvert_exporter": "python",
   "pygments_lexer": "ipython3",
   "version": "3.9.7"
  }
 },
 "nbformat": 4,
 "nbformat_minor": 5
}
